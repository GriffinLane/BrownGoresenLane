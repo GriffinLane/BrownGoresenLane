{
 "cells": [
  {
   "cell_type": "code",
   "execution_count": 1,
   "metadata": {},
   "outputs": [],
   "source": [
    "# -*- coding: utf-8 -*-\n",
    "\"\"\"\n",
    "Created on Sun Mar 25 16:07:48 2018\n",
    "\n",
    "@author: Griff\n",
    "\"\"\"\n",
    "from imdb import IMDb\n",
    "import tmdbsimple as tmdb\n",
    "import pandas as pd\n",
    "import progressbar as prog\n",
    "import os.path\n",
    "import numpy as np\n",
    "import IPython\n",
    "from utilities_project import (get_raw_movies,cross_with_IMDb, split_string_columns,\n",
    "                               encode_columns, split_lists_to_columns, MySQL_login, create_table)"
   ]
  },
  {
   "cell_type": "code",
   "execution_count": 2,
   "metadata": {},
   "outputs": [
    {
     "name": "stdout",
     "output_type": "stream",
     "text": [
      "Pandas version 0.22.0\n",
      "tmdbsimple version 2.1.0\n"
     ]
    }
   ],
   "source": [
    "#################\n",
    "    ##SETUP\n",
    "#################\n",
    "print('Pandas version ' + pd.__version__)\n",
    "print('tmdbsimple version ' + tmdb.__version__)\n",
    "\n",
    "movie_count_req = 10000\n",
    "\n",
    "tmdb.API_KEY = '43c26e89f50364998e6d406599d25aa5'\n",
    "db = IMDb()\n",
    "mysql, engine = MySQL_login()\n",
    "cur = mysql.cursor()"
   ]
  },
  {
   "cell_type": "code",
   "execution_count": 3,
   "metadata": {},
   "outputs": [
    {
     "name": "stdout",
     "output_type": "stream",
     "text": [
      "C:\\Users\\Griff\\Documents\\!_SKOOL\\Database\\Project\\BrownGoresenLane\\Movies.csv\n"
     ]
    }
   ],
   "source": [
    "#################\n",
    "    ##TMDb\n",
    "#################    \n",
    "TMDb_attributes = ['revenue','vote_average','vote_count'\n",
    "                           ,'title','original_language','release_date'\n",
    "                           ,'production_companies','production_countries','genres']\n",
    "\n",
    "raw_movies = get_raw_movies(movie_count_req, TMDb_attributes)\n",
    "\n",
    "if(raw_movies is not None):\n",
    "    pd.DataFrame(data=raw_movies, columns = TMDb_attributes).to_csv('Movies.csv',index=False,header=True)"
   ]
  },
  {
   "cell_type": "code",
   "execution_count": 4,
   "metadata": {},
   "outputs": [],
   "source": [
    "#################\n",
    "    ##IMDb\n",
    "#################\n",
    "\n",
    "def imdb_done():\n",
    "    with open(\"movies.csv\", encoding=\"utf8\") as file:\n",
    "        for line in file:\n",
    "            if(\"director\" in line):\n",
    "                file.close()\n",
    "                return True\n",
    "        file.close()\n",
    "        return False\n",
    "    \n",
    "if(not imdb_done()):\n",
    "    IMDb_attributes = [\"director\",\"producer\",\"cast\",\"runtimes\",\"writer\"]\n",
    "    raw_movies = pd.read_csv('Movies.csv', encoding=\"utf-8\")\n",
    "    raw_movies = cross_with_IMDb(raw_movies, IMDb_attributes)\n",
    "    pd.DataFrame(data=raw_movies, columns = TMDb_attributes+IMDb_attributes).to_csv('Movies.csv',index=False,header=True)\n",
    "else:\n",
    "#     raw_movies = pd.read_sql('SELECT * FROM table_name', con=db_connection)\n",
    "    raw_movies = pd.read_csv(\"Movies.csv\", encoding=\"utf-8\")"
   ]
  },
  {
   "cell_type": "code",
   "execution_count": 5,
   "metadata": {},
   "outputs": [
    {
     "name": "stdout",
     "output_type": "stream",
     "text": [
      "dropped 1538\n",
      "done\n"
     ]
    }
   ],
   "source": [
    "#################\n",
    "  #PRE-CLEANING\n",
    "#################\n",
    "    \n",
    "#Drop rows with columns we shouldn't impute\n",
    "raw_movies = raw_movies.dropna(subset=[\"cast\", \"director\", \"vote_average\", \"vote_count\",\"production_companies\",\"release_date\"])\n",
    "raw_movies =raw_movies.reset_index()\n",
    "print(\"dropped:\",(movie_count_req-len(raw_movies)))\n",
    "\n",
    "#Turn strings of multiple values into lists\n",
    "#ignore_list  \n",
    "test = split_string_columns(raw_movies, ignore_list=[\"title\"])\n",
    "print(\"done\")"
   ]
  },
  {
   "cell_type": "code",
   "execution_count": 6,
   "metadata": {},
   "outputs": [
    {
     "name": "stdout",
     "output_type": "stream",
     "text": [
      "done\n"
     ]
    }
   ],
   "source": [
    "test = split_lists_to_columns(engine, test, columns=[\"cast\",\"producer\",\"director\",\"production_companies\",\n",
    "                                             \"writer\",\"production_countries\",\"genres\",\"original_language\"],\n",
    "                              embed = [\"producer\",\"director\",\"cast\",\"writer\",\"production_companies\"])\n",
    "\n",
    "test = test[[\"title\", \"vote_average\", \"cast1\", \"cast2\",\n",
    "             \"cast3\", \"producer1\", \"producer2\", \"producer3\",\n",
    "             \"original_language1\", \"vote_count\", \"production_companies1\",\n",
    "             \"production_companies2\", \"production_companies3\", \"director1\",\n",
    "             \"director2\", \"director3\", \"revenue\", \"genres1\",\"genres2\",\"genres3\", \"release_date\",\n",
    "             \"production_countries1\",\"production_countries2\",\"writer1\", \"runtimes\"]]\n",
    "print(\"done\")"
   ]
  },
  {
   "cell_type": "code",
   "execution_count": null,
   "metadata": {},
   "outputs": [],
   "source": [
    "create_table(test, \"movie_data\", engine)\n",
    "print(\"done\")"
   ]
  },
  {
   "cell_type": "code",
   "execution_count": null,
   "metadata": {},
   "outputs": [],
   "source": [
    "#From server\n",
    "stuff = pd.read_sql('SELECT * FROM movie_data', con=mysql).set_index(\"title\")\n",
    "print(stuff)"
   ]
  },
  {
   "cell_type": "code",
   "execution_count": null,
   "metadata": {
    "collapsed": true
   },
   "outputs": [],
   "source": []
  }
 ],
 "metadata": {
  "kernelspec": {
   "display_name": "Python 3",
   "language": "python",
   "name": "python3"
  },
  "language_info": {
   "codemirror_mode": {
    "name": "ipython",
    "version": 3
   },
   "file_extension": ".py",
   "mimetype": "text/x-python",
   "name": "python",
   "nbconvert_exporter": "python",
   "pygments_lexer": "ipython3",
   "version": "3.6.2"
  }
 },
 "nbformat": 4,
 "nbformat_minor": 2
}
