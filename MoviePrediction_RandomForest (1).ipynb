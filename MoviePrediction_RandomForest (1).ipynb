{
 "cells": [
  {
   "cell_type": "code",
   "execution_count": 29,
   "metadata": {
    "collapsed": true
   },
   "outputs": [],
   "source": [
    "import pandas as pd\n",
    "from sklearn.ensemble import RandomForestRegressor\n",
    "from sklearn.model_selection import train_test_split\n",
    "import numpy as np\n",
    "from sklearn.metrics import mean_squared_error\n",
    "from sklearn.metrics import r2_score"
   ]
  },
  {
   "cell_type": "code",
   "execution_count": 30,
   "metadata": {
    "collapsed": true
   },
   "outputs": [],
   "source": [
    "Movies = pd.read_sql('SELECT * FROM movie_data', con=mysql)"
   ]
  },
  {
   "cell_type": "code",
   "execution_count": 31,
   "metadata": {
    "collapsed": true
   },
   "outputs": [],
   "source": [
    "Movies = Movies[Movies.revenue >= 1000]"
   ]
  },
  {
   "cell_type": "code",
   "execution_count": 32,
   "metadata": {
    "collapsed": true
   },
   "outputs": [],
   "source": [
    "Movies[['year', 'month', 'day']] = Movies['release_date'].str.split('-', expand=True)\n",
    "Movies['year'] = Movies['year'].str[2:]"
   ]
  },
  {
   "cell_type": "code",
   "execution_count": 33,
   "metadata": {
    "collapsed": true
   },
   "outputs": [],
   "source": [
    "Movies['year'] = pd.to_numeric(Movies['year'], errors='coerce')\n",
    "Movies['month'] = pd.to_numeric(Movies['month'], errors='coerce')"
   ]
  },
  {
   "cell_type": "code",
   "execution_count": 34,
   "metadata": {
    "collapsed": true
   },
   "outputs": [],
   "source": [
    "Movies = Movies.drop(['title','genres3','release_date','day'], axis = 1)"
   ]
  },
  {
   "cell_type": "code",
   "execution_count": 35,
   "metadata": {},
   "outputs": [
    {
     "name": "stdout",
     "output_type": "stream",
     "text": [
      "<class 'pandas.core.frame.DataFrame'>\n",
      "Int64Index: 3507 entries, 0 to 8452\n",
      "Data columns (total 24 columns):\n",
      "vote_average             3507 non-null float64\n",
      "cast1                    3507 non-null float64\n",
      "cast2                    3507 non-null float64\n",
      "cast3                    3502 non-null float64\n",
      "producer1                3494 non-null float64\n",
      "producer2                3336 non-null float64\n",
      "producer3                3024 non-null float64\n",
      "original_language1       3507 non-null object\n",
      "vote_count               3507 non-null int64\n",
      "production_companies1    3507 non-null float64\n",
      "production_companies2    2527 non-null float64\n",
      "production_companies3    1520 non-null float64\n",
      "director1                3507 non-null float64\n",
      "director2                224 non-null float64\n",
      "director3                48 non-null float64\n",
      "revenue                  3507 non-null int64\n",
      "genres1                  3507 non-null object\n",
      "genres2                  2924 non-null object\n",
      "production_countries1    3507 non-null object\n",
      "production_countries2    805 non-null object\n",
      "writer1                  3481 non-null float64\n",
      "runtimes                 3494 non-null float64\n",
      "year                     3507 non-null int64\n",
      "month                    3507 non-null int64\n",
      "dtypes: float64(15), int64(4), object(5)\n",
      "memory usage: 685.0+ KB\n"
     ]
    }
   ],
   "source": [
    "Movies.info()"
   ]
  },
  {
   "cell_type": "code",
   "execution_count": 36,
   "metadata": {
    "collapsed": true
   },
   "outputs": [],
   "source": [
    "original_language1_dmyfull = pd.get_dummies(Movies['original_language1'], drop_first=True)\n",
    "genres1_dmyfull = pd.get_dummies(Movies['genres1'], drop_first=True)\n",
    "genres2_dmyfull = pd.get_dummies(Movies['genres2'], drop_first=True)\n",
    "production_countries1_dmyfull = pd.get_dummies(Movies['production_countries1'], drop_first=True)\n",
    "production_countries2_dmyfull = pd.get_dummies(Movies['production_countries2'], drop_first=True)\n",
    "month_dmyfull = pd.get_dummies(Movies['month'], drop_first=True)\n",
    "cast1_dmyfull = pd.get_dummies(Movies['cast1'], drop_first=True)\n",
    "cast2_dmyfull = pd.get_dummies(Movies['cast2'], drop_first=True)\n",
    "cast3_dmyfull = pd.get_dummies(Movies['cast3'], drop_first=True)\n",
    "#producer1_dmyfull = pd.get_dummies(Movies['producer1'], drop_first=True)\n",
    "#producer2_dmyfull = pd.get_dummies(Movies['producer2'], drop_first=True)\n",
    "#producer3_dmyfull = pd.get_dummies(Movies['producer3'], drop_first=True)\n",
    "#director1_dmyfull = pd.get_dummies(Movies['director1'], drop_first=True)\n",
    "#director2_dmyfull = pd.get_dummies(Movies['director2'], drop_first=True)\n",
    "#director3_dmyfull = pd.get_dummies(Movies['director3'], drop_first=True)\n",
    "#writer1_dmyfull = pd.get_dummies(Movies['writer1'], drop_first=True)"
   ]
  },
  {
   "cell_type": "code",
   "execution_count": 37,
   "metadata": {
    "collapsed": true
   },
   "outputs": [],
   "source": [
    "# Concatenate dummy variables to data set \n",
    "#Movies_full = pd.concat([Movies,original_language1_dmyfull,production_countries1_dmyfull,production_countries2_dmyfull,\n",
    " #                        genres1_dmyfull,genres2_dmyfull,cast1_dmyfull,cast2_dmyfull,cast3_dmyfull,producer1_dmyfull,\n",
    "  #                      producer2_dmyfull,producer3_dmyfull,director1_dmyfull,director2_dmyfull,\n",
    "   #                     director3_dmyfull,writer1_dmyfull], axis = 1 )\n",
    "Movies_full = pd.concat([Movies,original_language1_dmyfull,production_countries1_dmyfull,production_countries2_dmyfull,\n",
    "                         genres1_dmyfull,genres2_dmyfull,month_dmyfull,cast1_dmyfull,cast2_dmyfull,cast3_dmyfull], \n",
    "                        axis = 1 )"
   ]
  },
  {
   "cell_type": "code",
   "execution_count": 38,
   "metadata": {
    "collapsed": true
   },
   "outputs": [],
   "source": [
    "# Drop unimportant/object columns\n",
    "#Movies_full = Movies_full.drop(['original_language1','production_countries1','production_countries2',\n",
    " #                               'genres1','genres2','cast1','cast2','cast3','producer1','producer2','producer3',\n",
    "  #                             'director1','director2','director3','writer1'], axis = 1)\n",
    "Movies_full = Movies_full.drop(['original_language1','production_countries1','production_countries2',\n",
    "                                'genres1','genres2','month','cast1','cast2','cast3'], axis = 1)"
   ]
  },
  {
   "cell_type": "code",
   "execution_count": 39,
   "metadata": {},
   "outputs": [
    {
     "name": "stdout",
     "output_type": "stream",
     "text": [
      "<class 'pandas.core.frame.DataFrame'>\n",
      "Int64Index: 3507 entries, 0 to 8452\n",
      "Columns: 246 entries, vote_average to 36.0\n",
      "dtypes: float64(12), int64(3), uint8(231)\n",
      "memory usage: 1.2 MB\n"
     ]
    }
   ],
   "source": [
    "Movies_full.info()"
   ]
  },
  {
   "cell_type": "code",
   "execution_count": 40,
   "metadata": {
    "collapsed": true
   },
   "outputs": [],
   "source": [
    "Movies_full = Movies_full.dropna()"
   ]
  },
  {
   "cell_type": "code",
   "execution_count": 41,
   "metadata": {
    "collapsed": true
   },
   "outputs": [],
   "source": [
    "# Split into x and y for prediction\n",
    "X = Movies_full.drop(['revenue'], axis = 1)\n",
    "y = Movies_full['revenue']\n",
    "# Separate into test and training sets\n",
    "X_train, X_test, y_train, y_test = train_test_split(X, y, test_size=0.2, random_state=50)\n",
    "X_train = np.array(X_train)\n",
    "X_test = np.array(X_test)\n",
    "y_train = np.array(y_train)\n",
    "y_test = np.array(y_test)"
   ]
  },
  {
   "cell_type": "code",
   "execution_count": 42,
   "metadata": {},
   "outputs": [],
   "source": [
    "rf = RandomForestRegressor(criterion='mse')\n",
    "\n",
    "#RFmodel1 = rf.fit(X_train, y_train)\n",
    "\n",
    "#RFmodelPred1 = RFmodel1.predict(X_test)\n",
    "\n",
    "#print(r2_score(y_test, RFmodelPred1))\n",
    "#RF1meanSquaredError = mean_squared_error(y_test, RFmodelPred1)\n",
    "#print(\"MSE:\", RF1meanSquaredError)"
   ]
  },
  {
   "cell_type": "code",
   "execution_count": 43,
   "metadata": {
    "collapsed": true
   },
   "outputs": [],
   "source": [
    "# Try log\n",
    "logy_test = np.log(y_test)\n",
    "logy_train = np.log(y_train)"
   ]
  },
  {
   "cell_type": "code",
   "execution_count": 44,
   "metadata": {},
   "outputs": [
    {
     "name": "stdout",
     "output_type": "stream",
     "text": [
      "MSE: 0.625444805749\n"
     ]
    },
    {
     "data": {
      "text/plain": [
       "0.41328324885202761"
      ]
     },
     "execution_count": 44,
     "metadata": {},
     "output_type": "execute_result"
    }
   ],
   "source": [
    "RFmodellog = rf.fit(X_train, logy_train)\n",
    "RFmodelPredlog = RFmodellog.predict(X_test)\n",
    "\n",
    "RFlogmeanSquaredError = mean_squared_error(logy_test, RFmodelPredlog)\n",
    "print(\"MSE:\", RFlogmeanSquaredError)\n",
    "r2_score(logy_test, RFmodelPredlog) "
   ]
  },
  {
   "cell_type": "code",
   "execution_count": null,
   "metadata": {
    "collapsed": true
   },
   "outputs": [],
   "source": []
  }
 ],
 "metadata": {
  "kernelspec": {
   "display_name": "Python 3",
   "language": "python",
   "name": "python3"
  },
  "language_info": {
   "codemirror_mode": {
    "name": "ipython",
    "version": 3
   },
   "file_extension": ".py",
   "mimetype": "text/x-python",
   "name": "python",
   "nbconvert_exporter": "python",
   "pygments_lexer": "ipython3",
   "version": "3.6.3"
  }
 },
 "nbformat": 4,
 "nbformat_minor": 2
}
