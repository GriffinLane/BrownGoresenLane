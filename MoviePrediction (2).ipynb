{
 "cells": [
  {
   "cell_type": "code",
   "execution_count": 1,
   "metadata": {
    "collapsed": true
   },
   "outputs": [],
   "source": [
    "import pandas as pd\n",
    "from sklearn.ensemble import RandomForestRegressor\n",
    "from sklearn.model_selection import train_test_split\n",
    "import numpy as np\n",
    "from sklearn import linear_model\n",
    "from sklearn.metrics import mean_squared_error"
   ]
  },
  {
   "cell_type": "code",
   "execution_count": 2,
   "metadata": {
    "collapsed": true
   },
   "outputs": [],
   "source": [
    "# Import Cleaned Movie Data\n",
    "url = 'https://raw.githubusercontent.com/GriffinLane/BrownGoresenLane/cleanup/movieData.csv'\n",
    "Movies = pd.read_csv(url)"
   ]
  },
  {
   "cell_type": "code",
   "execution_count": 3,
   "metadata": {},
   "outputs": [
    {
     "data": {
      "text/html": [
       "<div>\n",
       "<style>\n",
       "    .dataframe thead tr:only-child th {\n",
       "        text-align: right;\n",
       "    }\n",
       "\n",
       "    .dataframe thead th {\n",
       "        text-align: left;\n",
       "    }\n",
       "\n",
       "    .dataframe tbody tr th {\n",
       "        vertical-align: top;\n",
       "    }\n",
       "</style>\n",
       "<table border=\"1\" class=\"dataframe\">\n",
       "  <thead>\n",
       "    <tr style=\"text-align: right;\">\n",
       "      <th></th>\n",
       "      <th>Unnamed: 0</th>\n",
       "      <th>revenue</th>\n",
       "      <th>vote_average</th>\n",
       "      <th>vote_count</th>\n",
       "      <th>title</th>\n",
       "      <th>original_language</th>\n",
       "      <th>release_year</th>\n",
       "      <th>release_month</th>\n",
       "      <th>production_company1</th>\n",
       "      <th>production_company2</th>\n",
       "      <th>...</th>\n",
       "      <th>producer1</th>\n",
       "      <th>producer2</th>\n",
       "      <th>producer3</th>\n",
       "      <th>Cast1</th>\n",
       "      <th>Cast2</th>\n",
       "      <th>Cast3</th>\n",
       "      <th>runtimes</th>\n",
       "      <th>writer1</th>\n",
       "      <th>writer2</th>\n",
       "      <th>writer3</th>\n",
       "    </tr>\n",
       "  </thead>\n",
       "  <tbody>\n",
       "    <tr>\n",
       "      <th>0</th>\n",
       "      <td>1</td>\n",
       "      <td>4300000.0</td>\n",
       "      <td>6.6</td>\n",
       "      <td>714</td>\n",
       "      <td>Four Rooms</td>\n",
       "      <td>en</td>\n",
       "      <td>1995</td>\n",
       "      <td>12</td>\n",
       "      <td>Other</td>\n",
       "      <td>Other</td>\n",
       "      <td>...</td>\n",
       "      <td>Other</td>\n",
       "      <td>Other</td>\n",
       "      <td>Other</td>\n",
       "      <td>Other</td>\n",
       "      <td>Other</td>\n",
       "      <td>Other</td>\n",
       "      <td>98</td>\n",
       "      <td>Other</td>\n",
       "      <td>Other</td>\n",
       "      <td>Other</td>\n",
       "    </tr>\n",
       "    <tr>\n",
       "      <th>1</th>\n",
       "      <td>3</td>\n",
       "      <td>775398007.0</td>\n",
       "      <td>8.1</td>\n",
       "      <td>8550</td>\n",
       "      <td>Star Wars</td>\n",
       "      <td>en</td>\n",
       "      <td>1977</td>\n",
       "      <td>5</td>\n",
       "      <td>Other</td>\n",
       "      <td>20th Century Fox</td>\n",
       "      <td>...</td>\n",
       "      <td>Other</td>\n",
       "      <td>Other</td>\n",
       "      <td>Other</td>\n",
       "      <td>Other</td>\n",
       "      <td>Other</td>\n",
       "      <td>Other</td>\n",
       "      <td>121</td>\n",
       "      <td>Other</td>\n",
       "      <td>None</td>\n",
       "      <td>None</td>\n",
       "    </tr>\n",
       "    <tr>\n",
       "      <th>2</th>\n",
       "      <td>4</td>\n",
       "      <td>940335536.0</td>\n",
       "      <td>7.7</td>\n",
       "      <td>8085</td>\n",
       "      <td>Finding Nemo</td>\n",
       "      <td>en</td>\n",
       "      <td>2003</td>\n",
       "      <td>5</td>\n",
       "      <td>Other</td>\n",
       "      <td>None</td>\n",
       "      <td>...</td>\n",
       "      <td>Other</td>\n",
       "      <td>Other</td>\n",
       "      <td>Other</td>\n",
       "      <td>Other</td>\n",
       "      <td>Other</td>\n",
       "      <td>Other</td>\n",
       "      <td>100</td>\n",
       "      <td>Other</td>\n",
       "      <td>Other</td>\n",
       "      <td>Other</td>\n",
       "    </tr>\n",
       "    <tr>\n",
       "      <th>3</th>\n",
       "      <td>5</td>\n",
       "      <td>677945399.0</td>\n",
       "      <td>8.3</td>\n",
       "      <td>10346</td>\n",
       "      <td>Forrest Gump</td>\n",
       "      <td>en</td>\n",
       "      <td>1994</td>\n",
       "      <td>7</td>\n",
       "      <td>Paramount</td>\n",
       "      <td>None</td>\n",
       "      <td>...</td>\n",
       "      <td>Other</td>\n",
       "      <td>Other</td>\n",
       "      <td>Other</td>\n",
       "      <td>Tom Hanks</td>\n",
       "      <td>Other</td>\n",
       "      <td>Other</td>\n",
       "      <td>142</td>\n",
       "      <td>Other</td>\n",
       "      <td>Eric Roth</td>\n",
       "      <td>None</td>\n",
       "    </tr>\n",
       "    <tr>\n",
       "      <th>4</th>\n",
       "      <td>6</td>\n",
       "      <td>356296601.0</td>\n",
       "      <td>8.0</td>\n",
       "      <td>4571</td>\n",
       "      <td>American Beauty</td>\n",
       "      <td>en</td>\n",
       "      <td>1999</td>\n",
       "      <td>9</td>\n",
       "      <td>Other</td>\n",
       "      <td>Other</td>\n",
       "      <td>...</td>\n",
       "      <td>Other</td>\n",
       "      <td>Other</td>\n",
       "      <td>Other</td>\n",
       "      <td>Other</td>\n",
       "      <td>Other</td>\n",
       "      <td>Other</td>\n",
       "      <td>122</td>\n",
       "      <td>Other</td>\n",
       "      <td>None</td>\n",
       "      <td>None</td>\n",
       "    </tr>\n",
       "  </tbody>\n",
       "</table>\n",
       "<p>5 rows × 24 columns</p>\n",
       "</div>"
      ],
      "text/plain": [
       "   Unnamed: 0      revenue  vote_average  vote_count            title  \\\n",
       "0           1    4300000.0           6.6         714       Four Rooms   \n",
       "1           3  775398007.0           8.1        8550        Star Wars   \n",
       "2           4  940335536.0           7.7        8085     Finding Nemo   \n",
       "3           5  677945399.0           8.3       10346     Forrest Gump   \n",
       "4           6  356296601.0           8.0        4571  American Beauty   \n",
       "\n",
       "  original_language  release_year  release_month production_company1  \\\n",
       "0                en          1995             12               Other   \n",
       "1                en          1977              5               Other   \n",
       "2                en          2003              5               Other   \n",
       "3                en          1994              7           Paramount   \n",
       "4                en          1999              9               Other   \n",
       "\n",
       "  production_company2   ...   producer1 producer2 producer3      Cast1  Cast2  \\\n",
       "0               Other   ...       Other     Other     Other      Other  Other   \n",
       "1    20th Century Fox   ...       Other     Other     Other      Other  Other   \n",
       "2                None   ...       Other     Other     Other      Other  Other   \n",
       "3                None   ...       Other     Other     Other  Tom Hanks  Other   \n",
       "4               Other   ...       Other     Other     Other      Other  Other   \n",
       "\n",
       "   Cast3 runtimes writer1    writer2 writer3  \n",
       "0  Other       98   Other      Other   Other  \n",
       "1  Other      121   Other       None    None  \n",
       "2  Other      100   Other      Other   Other  \n",
       "3  Other      142   Other  Eric Roth    None  \n",
       "4  Other      122   Other       None    None  \n",
       "\n",
       "[5 rows x 24 columns]"
      ]
     },
     "execution_count": 3,
     "metadata": {},
     "output_type": "execute_result"
    }
   ],
   "source": [
    "# Preview Data\n",
    "Movies.head(5)"
   ]
  },
  {
   "cell_type": "code",
   "execution_count": 4,
   "metadata": {},
   "outputs": [
    {
     "name": "stdout",
     "output_type": "stream",
     "text": [
      "<class 'pandas.core.frame.DataFrame'>\n",
      "RangeIndex: 3579 entries, 0 to 3578\n",
      "Data columns (total 24 columns):\n",
      "Unnamed: 0             3579 non-null int64\n",
      "revenue                3579 non-null float64\n",
      "vote_average           3579 non-null float64\n",
      "vote_count             3579 non-null int64\n",
      "title                  3579 non-null object\n",
      "original_language      3579 non-null object\n",
      "release_year           3579 non-null int64\n",
      "release_month          3579 non-null int64\n",
      "production_company1    3579 non-null object\n",
      "production_company2    3579 non-null object\n",
      "production_country1    3579 non-null object\n",
      "genre1                 3579 non-null object\n",
      "genre2                 3579 non-null object\n",
      "director1              3579 non-null object\n",
      "producer1              3579 non-null object\n",
      "producer2              3579 non-null object\n",
      "producer3              3579 non-null object\n",
      "Cast1                  3579 non-null object\n",
      "Cast2                  3579 non-null object\n",
      "Cast3                  3579 non-null object\n",
      "runtimes               3579 non-null int64\n",
      "writer1                3579 non-null object\n",
      "writer2                3579 non-null object\n",
      "writer3                3579 non-null object\n",
      "dtypes: float64(2), int64(5), object(17)\n",
      "memory usage: 671.1+ KB\n"
     ]
    }
   ],
   "source": [
    "# Check data types\n",
    "Movies.info()"
   ]
  },
  {
   "cell_type": "code",
   "execution_count": 5,
   "metadata": {},
   "outputs": [],
   "source": [
    "# Deal with categorical variables \n",
    "original_language_dmyfull = pd.get_dummies(Movies['original_language'], drop_first=True)\n",
    "production_company1_dmyfull = pd.get_dummies(Movies['production_company1'], drop_first=True)\n",
    "production_company2_dmyfull = pd.get_dummies(Movies['production_company2'], drop_first=True)\n",
    "production_country1_dmyfull = pd.get_dummies(Movies['production_country1'], drop_first=True)\n",
    "genre1_dmyfull = pd.get_dummies(Movies['genre1'], drop_first=True)\n",
    "genre2_dmyfull = pd.get_dummies(Movies['genre2'], drop_first=True)\n",
    "director1_dmyfull = pd.get_dummies(Movies['director1'], drop_first=True)\n",
    "producer1_dmyfull = pd.get_dummies(Movies['producer1'], drop_first=True)\n",
    "producer2_dmyfull = pd.get_dummies(Movies['producer2'], drop_first=True)\n",
    "producer3_dmyfull = pd.get_dummies(Movies['producer3'], drop_first=True)\n",
    "Cast1_dmyfull = pd.get_dummies(Movies['Cast1'], drop_first=True)\n",
    "Cast2_dmyfull = pd.get_dummies(Movies['Cast2'], drop_first=True)\n",
    "Cast3_dmyfull = pd.get_dummies(Movies['Cast3'], drop_first=True)\n",
    "writer1_dmyfull = pd.get_dummies(Movies['writer1'], drop_first=True)\n",
    "writer2_dmyfull = pd.get_dummies(Movies['writer2'], drop_first=True)\n",
    "writer3_dmyfull = pd.get_dummies(Movies['writer3'], drop_first=True)"
   ]
  },
  {
   "cell_type": "code",
   "execution_count": 6,
   "metadata": {},
   "outputs": [],
   "source": [
    "# Concatenate dummy variables to data set \n",
    "Movies_full = pd.concat([Movies,original_language_dmyfull,production_company1_dmyfull,production_company2_dmyfull,\n",
    "                         production_country1_dmyfull,genre1_dmyfull,genre2_dmyfull,director1_dmyfull,producer1_dmyfull,\n",
    "                         producer2_dmyfull,producer3_dmyfull,Cast1_dmyfull,Cast2_dmyfull,Cast3_dmyfull,writer1_dmyfull,\n",
    "                         writer2_dmyfull,writer3_dmyfull], axis = 1 )"
   ]
  },
  {
   "cell_type": "code",
   "execution_count": 7,
   "metadata": {},
   "outputs": [],
   "source": [
    "# Drop unimportant/object columns\n",
    "Movies_full = Movies_full.drop(['title','original_language','production_company1','production_company2',\n",
    "                                'production_country1','genre1','genre2','director1','producer1','producer2',\n",
    "                                'producer3','Cast1','Cast2','Cast3','writer1','writer2','writer3'], axis = 1)"
   ]
  },
  {
   "cell_type": "code",
   "execution_count": 8,
   "metadata": {},
   "outputs": [
    {
     "name": "stdout",
     "output_type": "stream",
     "text": [
      "<class 'pandas.core.frame.DataFrame'>\n",
      "RangeIndex: 3579 entries, 0 to 3578\n",
      "Columns: 196 entries, Unnamed: 0 to Other\n",
      "dtypes: float64(2), int64(5), uint8(189)\n",
      "memory usage: 856.4 KB\n"
     ]
    }
   ],
   "source": [
    "# Check new info\n",
    "Movies_full.info()"
   ]
  },
  {
   "cell_type": "code",
   "execution_count": 9,
   "metadata": {},
   "outputs": [],
   "source": [
    "# Split into x and y for prediction\n",
    "X = Movies_full.drop(['revenue'], axis = 1)\n",
    "y = Movies_full['revenue']"
   ]
  },
  {
   "cell_type": "code",
   "execution_count": 10,
   "metadata": {
    "collapsed": true
   },
   "outputs": [],
   "source": [
    "# Separate into test and training sets\n",
    "X_train, X_test, y_train, y_test = train_test_split(X, y, test_size=0.3, random_state=101)"
   ]
  },
  {
   "cell_type": "code",
   "execution_count": 11,
   "metadata": {
    "collapsed": true
   },
   "outputs": [],
   "source": [
    "X_train = np.array(X_train)\n",
    "X_test = np.array(X_test)\n",
    "y_train = np.array(y_train)\n",
    "y_test = np.array(y_test)"
   ]
  },
  {
   "cell_type": "markdown",
   "metadata": {},
   "source": [
    "# Random Forest"
   ]
  },
  {
   "cell_type": "code",
   "execution_count": 12,
   "metadata": {},
   "outputs": [],
   "source": [
    "rf = RandomForestRegressor(criterion='mse')\n",
    "RFmodel1 = rf.fit(X_train, y_train)"
   ]
  },
  {
   "cell_type": "code",
   "execution_count": 13,
   "metadata": {},
   "outputs": [],
   "source": [
    "RFmodelPred1 = RFmodel1.predict(X_test)"
   ]
  },
  {
   "cell_type": "code",
   "execution_count": 14,
   "metadata": {},
   "outputs": [
    {
     "name": "stdout",
     "output_type": "stream",
     "text": [
      "[  1.76995418e+08   4.05527553e+07   8.20269426e+07 ...,   8.64052154e+07\n",
      "   1.47991041e+07   2.21320386e+08]\n"
     ]
    }
   ],
   "source": [
    "print(RFmodelPred1)"
   ]
  },
  {
   "cell_type": "code",
   "execution_count": 15,
   "metadata": {},
   "outputs": [],
   "source": [
    "RF1meanSquaredError = mean_squared_error(y_test, RFmodelPred1)"
   ]
  },
  {
   "cell_type": "code",
   "execution_count": 16,
   "metadata": {},
   "outputs": [
    {
     "name": "stdout",
     "output_type": "stream",
     "text": [
      "MSE: 8.54225718814e+15\n"
     ]
    }
   ],
   "source": [
    "print(\"MSE:\", RF1meanSquaredError)"
   ]
  },
  {
   "cell_type": "markdown",
   "metadata": {},
   "source": [
    "2nd Try"
   ]
  },
  {
   "cell_type": "code",
   "execution_count": 17,
   "metadata": {
    "collapsed": true
   },
   "outputs": [],
   "source": [
    "from sklearn.ensemble import RandomForestClassifier\n",
    "from sklearn.model_selection import cross_val_score\n",
    "from sklearn import model_selection"
   ]
  },
  {
   "cell_type": "code",
   "execution_count": 18,
   "metadata": {},
   "outputs": [],
   "source": [
    "rf2 = RandomForestClassifier(n_estimators=300, random_state=1)\n",
    "RFmodel2 = rf2.fit(X_train, y_train)\n",
    "RFmodelPred2 = RFmodel2.predict(X_test)"
   ]
  },
  {
   "cell_type": "code",
   "execution_count": 19,
   "metadata": {},
   "outputs": [
    {
     "name": "stdout",
     "output_type": "stream",
     "text": [
      "[  3.70956570e+07   3.37881610e+07   2.52054600e+07 ...,   1.52368585e+08\n",
      "   1.15854830e+07   4.80811000e+05]\n"
     ]
    }
   ],
   "source": [
    "print(RFmodelPred2)"
   ]
  },
  {
   "cell_type": "code",
   "execution_count": 20,
   "metadata": {},
   "outputs": [
    {
     "name": "stdout",
     "output_type": "stream",
     "text": [
      "MSE: 2.34828596889e+16\n"
     ]
    }
   ],
   "source": [
    "RF2meanSquaredError = mean_squared_error(y_test, RFmodelPred2)\n",
    "print(\"MSE:\", RF2meanSquaredError)"
   ]
  },
  {
   "cell_type": "markdown",
   "metadata": {},
   "source": [
    "3rd Try"
   ]
  },
  {
   "cell_type": "code",
   "execution_count": 22,
   "metadata": {},
   "outputs": [
    {
     "name": "stdout",
     "output_type": "stream",
     "text": [
      "0.000558659217877\n"
     ]
    }
   ],
   "source": [
    "seed = 7\n",
    "num_trees = 100\n",
    "max_features = 3\n",
    "kfold = model_selection.KFold(n_splits=10, random_state=seed)\n",
    "RFModel3 = RandomForestClassifier(n_estimators=num_trees, max_features=max_features)\n",
    "RFmodelPred3 = model_selection.cross_val_score(RFModel3, X, y, cv=kfold)\n",
    "print(RFmodelPred3.mean())"
   ]
  },
  {
   "cell_type": "markdown",
   "metadata": {},
   "source": [
    "# Multiple Linear Regression"
   ]
  },
  {
   "cell_type": "code",
   "execution_count": 72,
   "metadata": {},
   "outputs": [],
   "source": [
    "from sklearn.linear_model import LinearRegression\n",
    "lm = LinearRegression()"
   ]
  },
  {
   "cell_type": "code",
   "execution_count": 73,
   "metadata": {},
   "outputs": [],
   "source": [
    "linearmodel1 = lm.fit(X_train,y_train)"
   ]
  },
  {
   "cell_type": "code",
   "execution_count": 74,
   "metadata": {},
   "outputs": [],
   "source": [
    "linearmodelPred1 = linearmodel1.predict(X_test)"
   ]
  },
  {
   "cell_type": "code",
   "execution_count": 75,
   "metadata": {},
   "outputs": [],
   "source": [
    "LM1meanSquaredError = mean_squared_error(y_test, linearmodelPred1)"
   ]
  },
  {
   "cell_type": "code",
   "execution_count": 76,
   "metadata": {},
   "outputs": [
    {
     "name": "stdout",
     "output_type": "stream",
     "text": [
      "MSE: 9.04951890273e+15\n"
     ]
    }
   ],
   "source": [
    "print(\"MSE:\", LM1meanSquaredError)"
   ]
  }
 ],
 "metadata": {
  "kernelspec": {
   "display_name": "Python 3",
   "language": "python",
   "name": "python3"
  },
  "language_info": {
   "codemirror_mode": {
    "name": "ipython",
    "version": 3
   },
   "file_extension": ".py",
   "mimetype": "text/x-python",
   "name": "python",
   "nbconvert_exporter": "python",
   "pygments_lexer": "ipython3",
   "version": "3.6.3"
  }
 },
 "nbformat": 4,
 "nbformat_minor": 2
}
